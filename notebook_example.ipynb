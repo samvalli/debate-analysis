{
 "cells": [
  {
   "cell_type": "markdown",
   "id": "4b6ef96d",
   "metadata": {},
   "source": [
    "In this notebook we present an example of how to evaluate the aspects we defined on shprt debate. We will use as example a Kialo debate [Recreational cannabis should be legalized everywhere](https://www.kialo.com/recreational-cannabis-should-be-legalized-everywhere-54242). The whole debate is freely downloadable as txt files from the web page togheter with informations about number of edits made by the authors, or they can be found in the folder \"data\".\n",
    "\n",
    "First we proceed importing the functions we will use to evaluate the aspects and we import the data. "
   ]
  },
  {
   "cell_type": "code",
   "execution_count": 1,
   "id": "8bc10e45",
   "metadata": {},
   "outputs": [],
   "source": [
    "from aspects.complexity_utils import *\n",
    "from aspects.disagreement_utils import *\n",
    "from aspects.equality_engagement_utils import *\n",
    "from aspects.reason_utils import *\n",
    "from aspects.sentiment_utils import *\n",
    "from aspects.sourcing_utils import *\n",
    "from aspects.topic_distance_utils import *"
   ]
  },
  {
   "cell_type": "code",
   "execution_count": null,
   "id": "c428879a",
   "metadata": {},
   "outputs": [],
   "source": []
  },
  {
   "cell_type": "markdown",
   "id": "ef3f6ec1",
   "metadata": {},
   "source": []
  }
 ],
 "metadata": {
  "kernelspec": {
   "display_name": "bert_model",
   "language": "python",
   "name": "python3"
  },
  "language_info": {
   "codemirror_mode": {
    "name": "ipython",
    "version": 3
   },
   "file_extension": ".py",
   "mimetype": "text/x-python",
   "name": "python",
   "nbconvert_exporter": "python",
   "pygments_lexer": "ipython3",
   "version": "3.11.9"
  }
 },
 "nbformat": 4,
 "nbformat_minor": 5
}
