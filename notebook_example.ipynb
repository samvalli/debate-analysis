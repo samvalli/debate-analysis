{
 "cells": [
  {
   "cell_type": "markdown",
   "id": "4b6ef96d",
   "metadata": {},
   "source": [
    "# Debate analysis example\n",
    "\n",
    "In this notebook we present an example of how to evaluate the aspects we defined on shprt debate. We will use as example a the topic of Universal Basic Income. \n",
    "We will use three different debates: \n",
    "* one from [Wikidebate](https://en.wikiversity.org/wiki/Category:Wikidebates) titled ['_Should universal basic income be established?_'](https://en.wikiversity.org/wiki/Should_universal_basic_income_be_established%3F)\n",
    "* one from [Kialo](https://www.kialo.com) titled ['_Should governments provide a universal basic income?_'](https://www.kialo.com/should-governments-provide-a-universal-basic-income-14053)\n",
    "* one from [/rchangemyview](https://www.reddit.com/r/changemyview/) titled ['_CMV: Universal basic income is the way of the future._'](https://www.reddit.com/r/changemyview/comments/tdmuae/cmv_universal_basic_income_is_the_way_of_the/).\n",
    "\n",
    "For further general information on data collection see the readme file and `src/data_collection/` folder for the code.\n",
    "\n",
    "We start by importing all the functions we will use to evaluate the defined metrics."
   ]
  },
  {
   "cell_type": "code",
   "execution_count": 1,
   "id": "c1b5da04",
   "metadata": {},
   "outputs": [],
   "source": [
    "from src.complexity_utils import *\n",
    "from src.disagreement_utils import *\n",
    "from src.equality_engagement_utils import *\n",
    "from src.reason_utils import *\n",
    "from src.sentiment_utils import *\n",
    "from src.sourcing_utils import *\n",
    "from src.topic_distance_utils import *\n",
    "\n",
    "import pandas as pd"
   ]
  },
  {
   "cell_type": "markdown",
   "id": "ef3f6ec1",
   "metadata": {},
   "source": [
    "We proceeed to import the data we need. In this notebook we have three separated csv files, each row of these files contain a post, which is assigned with the following infomration:\n",
    "* **id**: a unique id identifying the post\n",
    "* **page_id**: an id identifying the topic \n",
    "* **item**: the content of the post\n",
    "* **parent_id**: the id of the parent post, in the case of root post this value is 0\n",
    "* **title**: a title identifying the topic\n",
    "* **debate_id**: an id identifying the debate (as Kialo and CMV in the original dataset may have different debates for the same topic)\n",
    "* **length**: post length in charachters\n",
    "* **level**: depth level of the post (root posts are assigned with a level of 0)\n",
    "* **thread_id**: an id identifying the thread each post belongs to\n",
    "* **author**: author(s) of the post, in the case of Wikidebate more than one user could be involved. In the case of Kialo we cannot associate each post with its authors, thus this column is assigned with Nan values, while we use unmatched statistics when needed.\n",
    "* **platform**: short name of the platform the post was published in. \n",
    "\n",
    "Moreover Wikidebate csv has:\n",
    "\n",
    "* **references**: indicates the number of references of each post \n",
    "\n",
    "While Canghe My View has:\n",
    "\n",
    "* **original_item**: post content before preprocessing, used to extract references. "
   ]
  },
  {
   "cell_type": "code",
   "execution_count": 2,
   "id": "f016979f",
   "metadata": {},
   "outputs": [],
   "source": [
    "platforms=['wiki','kialo','cmv']\n",
    "wiki_data=pd.read_csv('data/UBI_wiki.csv',index_col=0)\n",
    "kialo_data=pd.read_csv('data/UBI_kialo.csv',index_col=0)\n",
    "cmv_data=pd.read_csv('data/UBI_cmv.csv',index_col=0)\n",
    "merged_data = pd.concat([wiki_data,kialo_data,cmv_data],ignore_index=True)"
   ]
  },
  {
   "cell_type": "code",
   "execution_count": 3,
   "id": "495901c3",
   "metadata": {},
   "outputs": [
    {
     "name": "stderr",
     "output_type": "stream",
     "text": [
      "/data/big/wikidebate/debate-analysis/src/equality_engagement_utils.py:37: SettingWithCopyWarning: \n",
      "A value is trying to be set on a copy of a slice from a DataFrame.\n",
      "Try using .loc[row_indexer,col_indexer] = value instead\n",
      "\n",
      "See the caveats in the documentation: https://pandas.pydata.org/pandas-docs/stable/user_guide/indexing.html#returning-a-view-versus-a-copy\n",
      "  wiki_data['author']=wiki_data['author'].apply(ast.literal_eval)\n"
     ]
    }
   ],
   "source": [
    "engagement_value,equality_value=engagement_and_equality_assignment(merged_data,platforms)"
   ]
  },
  {
   "cell_type": "code",
   "execution_count": 4,
   "id": "95e5c8c3",
   "metadata": {},
   "outputs": [
    {
     "name": "stdout",
     "output_type": "stream",
     "text": [
      "Should universal basic income be established?\n",
      "125    I recently started learning more about Andrew ...\n",
      "126    If the the point of UBI is to provide for basi...\n",
      "127    Biggest issue is always gonna be the cost, rig...\n",
      "128    Universal basic income advocates like to think...\n",
      "129    So... UBI Happens right. Like they put it in p...\n",
      "                             ...                        \n",
      "482    >\\tHomeschooling is already allowed though, so...\n",
      "483    But you're still reaping the benefits of havin...\n",
      "484    >But you're still reaping the benefits of havi...\n",
      "485    So that once again brings me back to: why is p...\n",
      "486    My guess is that people don’t question why thi...\n",
      "Name: original_item, Length: 362, dtype: object\n",
      "2\n",
      "103\n",
      "40\n"
     ]
    }
   ],
   "source": [
    "wiki_num_ref,kialo_num_ref,cmv_num_ref=get_platforms_reference_number(merged_data,platforms)\n",
    "print(wiki_num_ref)\n",
    "print(kialo_num_ref)\n",
    "print(cmv_num_ref)"
   ]
  },
  {
   "cell_type": "code",
   "execution_count": 5,
   "id": "78201ad7",
   "metadata": {},
   "outputs": [],
   "source": [
    "polarity=VADER_sentiment(merged_data)\n",
    "sentiment=tex_blob_sentiment(merged_data,platforms)\n",
    "mltd=mltd(merged_data)\n",
    "readability_score=readability_score(merged_data)"
   ]
  }
 ],
 "metadata": {
  "kernelspec": {
   "display_name": "bert_model",
   "language": "python",
   "name": "python3"
  },
  "language_info": {
   "codemirror_mode": {
    "name": "ipython",
    "version": 3
   },
   "file_extension": ".py",
   "mimetype": "text/x-python",
   "name": "python",
   "nbconvert_exporter": "python",
   "pygments_lexer": "ipython3",
   "version": "3.11.9"
  }
 },
 "nbformat": 4,
 "nbformat_minor": 5
}
